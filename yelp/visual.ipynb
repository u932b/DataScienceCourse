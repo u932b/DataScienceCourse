{
 "cells": [
  {
   "cell_type": "code",
   "execution_count": 9,
   "metadata": {
    "collapsed": true
   },
   "outputs": [],
   "source": [
    "input_dir = \"/home/ubuntu/chchao/\"\n",
    "BUS_PATH = input_dir + \"yelp_dataset/yelp_academic_dataset_business.pickle\"\n",
    "TOR_BUS_PATH = input_dir + \"yelp_dataset/yelp_toronto_business.pickle\"\n",
    "VEGAS_BUS_PATH = input_dir + \"yelp_dataset/yelp_vegas_business.pickle\"\n",
    "MONTREAL_BUS_PATH = input_dir + \"yelp_dataset/yelp_montreal_business.pickle\"\n",
    "PHOENIX_BUS_PATH = input_dir + \"yelp_dataset/yelp_phoenix_business.pickle\"\n",
    "BUS_DF = input_dir + \"yelp_dataset/df_convert/yelp_academic_dataset_business.pickle\"\n",
    "CITY_LIST = input_dir + \"city_cnt_list\""
   ]
  },
  {
   "cell_type": "code",
   "execution_count": 11,
   "metadata": {
    "collapsed": true
   },
   "outputs": [],
   "source": [
    "import json\n",
    "import pandas as pd\n",
    "import numpy as np\n",
    "import matplotlib.pyplot as plt\n",
    "import pandas as pd\n",
    "import sklearn   # This library will help to get the values\n",
    "from sklearn import metrics"
   ]
  },
  {
   "cell_type": "code",
   "execution_count": 13,
   "metadata": {
    "collapsed": true
   },
   "outputs": [],
   "source": [
    "import pickle\n",
    "\n",
    "def pickle_to_df(pickle_path, verbose=False):\n",
    "    serial_pickle = pd.read_pickle(pickle_path)\n",
    "    df = pd.DataFrame.from_dict(serial_pickle, orient='index')\n",
    "    features = []\n",
    "    bool_map = {'True': True,'False': False}\n",
    "    if \"business\" in pickle_path:\n",
    "        # print (df.columns.values)\n",
    "        columns_to_exclude = ['business_id', 'name', 'address', 'is_open']\n",
    "        # df = df [[df.columns.values]]\n",
    "        # df = df[['categories', 'review_count', 'stars', 'is_open', 'attributes', 'postal_code']]\n",
    "        df = df[df['categories'].notnull()] # drop row with null categories\n",
    "        df = df[df['categories'].str.contains('Restaurant')] # select only rows with restaurant as categories\n",
    "        la_list = ['stars', 'review_count', 'Ambience_romantic', 'Ambience_intimate', 'Ambience_classy',\n",
    " 'Ambience_hipster', 'Ambience_touristy', 'Ambience_trendy',\n",
    " 'Ambience_upscale', 'Ambience_casual', 'BikeParking', 'BusinessAcceptsCreditCards', 'BusinessParking_garage',\n",
    " 'BusinessParking_street', 'BusinessParking_validated', 'BusinessParking_lot',\n",
    " 'BusinessParking_valet', 'Caters', 'GoodForKids', 'GoodForMeal_dessert',\n",
    " 'GoodForMeal_latenight', 'GoodForMeal_lunch', 'GoodForMeal_dinner',\n",
    " 'GoodForMeal_breakfast', 'GoodForMeal_brunch', 'HasTV', 'OutdoorSeating', 'RestaurantsDelivery',\n",
    " 'RestaurantsGoodForGroups', 'RestaurantsReservations', 'RestaurantsTableService', 'RestaurantsTakeOut', 'Music_dj', 'Music_background_music', 'Music_no_music', 'Music_karaoke',\n",
    " 'Music_live', 'Music_video', 'Music_jukebox', 'DogsAllowed', 'Open24Hours', 'RestaurantsCounterService']\n",
    "        # for col in la_list:\n",
    "        for col in df.columns.values:\n",
    "            df[col].map(bool_map)\n",
    "        \n",
    "        \n",
    "        for feature in df.columns:       \n",
    "            # if feature not in columns_to_exclude:\n",
    "            if feature in la_list:\n",
    "                features.append(feature)\n",
    "        \n",
    "        # store the df as pickle for use\n",
    "        df.to_pickle(input_dir + \"yelp_dataset/df_convert/\" + pickle_path.split('/')[-1])\n",
    "        return df[features].fillna(-1), df[[\"is_open\"]]"
   ]
  },
  {
   "cell_type": "code",
   "execution_count": 14,
   "metadata": {
    "collapsed": false
   },
   "outputs": [],
   "source": [
    "import sklearn\n",
    "from sklearn.tree import DecisionTreeClassifier\n",
    "from sklearn.ensemble import RandomForestClassifier\n",
    "from sklearn import tree\n",
    "from sklearn.model_selection import train_test_split\n",
    "from sklearn.model_selection import GridSearchCV\n",
    "\n",
    "df = pd.read_pickle(BUS_DF)\n",
    "X, Y = pickle_to_df(BUS_PATH)\n",
    "# print (X, Y.transpose().values[0])\n",
    "X_train, X_test, Y_train, Y_test = train_test_split(X, Y, train_size=.75)"
   ]
  },
  {
   "cell_type": "code",
   "execution_count": 18,
   "metadata": {
    "collapsed": false
   },
   "outputs": [
    {
     "name": "stdout",
     "output_type": "stream",
     "text": [
      "['latitude' 'city' 'type' 'name' 'business_id' 'stars' 'longitude'\n",
      " 'address' 'state' 'postal_code' 'hours' 'neighborhood' 'attributes'\n",
      " 'categories' 'is_open' 'review_count' 'BusinessParking_valet'\n",
      " 'BusinessParking_garage' 'BusinessParking_lot' 'WheelchairAccessible'\n",
      " 'RestaurantsPriceRange2' 'BusinessParking_validated'\n",
      " 'BusinessAcceptsCreditCards' 'BusinessParking_street' 'BikeParking'\n",
      " 'RestaurantsReservations' 'GoodForMeal_brunch' 'RestaurantsAttire'\n",
      " 'GoodForMeal_breakfast' 'GoodForMeal_dessert' 'Caters'\n",
      " 'RestaurantsTakeOut' 'RestaurantsGoodForGroups' 'GoodForMeal_lunch'\n",
      " 'GoodForKids' 'GoodForMeal_dinner' 'Alcohol' 'GoodForMeal_latenight'\n",
      " 'RestaurantsDelivery' 'DriveThru' 'RestaurantsTableService'\n",
      " 'OutdoorSeating' 'Ambience_divey' 'Ambience_intimate' 'Ambience_romantic'\n",
      " 'Ambience_touristy' 'NoiseLevel' 'Ambience_casual' 'WiFi'\n",
      " 'Ambience_trendy' 'Ambience_upscale' 'HasTV' 'Ambience_classy'\n",
      " 'Ambience_hipster' 'BusinessAcceptsBitcoin' 'ByAppointmentOnly'\n",
      " 'DogsAllowed' 'HairSpecializesIn' 'AcceptsInsurance' 'BestNights_tuesday'\n",
      " 'CoatCheck' 'BestNights_wednesday' 'Music_live' 'HappyHour'\n",
      " 'GoodForDancing' 'Music_video' 'Music_karaoke' 'BestNights_friday'\n",
      " 'BestNights_saturday' 'Music_jukebox' 'Music_no_music' 'BestNights_monday'\n",
      " 'Music_dj' 'Smoking' 'BestNights_sunday' 'BestNights_thursday'\n",
      " 'Music_background_music' 'BYOBCorkage' 'Corkage' 'BYOB'\n",
      " 'DietaryRestrictions' 'Open24Hours' 'AgesAllowed'\n",
      " 'RestaurantsCounterService']\n"
     ]
    }
   ],
   "source": [
    "print (df.columns.values)"
   ]
  },
  {
   "cell_type": "code",
   "execution_count": 6,
   "metadata": {
    "collapsed": false
   },
   "outputs": [
    {
     "data": {
      "text/plain": [
       "DecisionTreeClassifier(class_weight=None, criterion='entropy', max_depth=14,\n",
       "            max_features=None, max_leaf_nodes=None,\n",
       "            min_impurity_split=1e-07, min_samples_leaf=32,\n",
       "            min_samples_split=256, min_weight_fraction_leaf=0.0,\n",
       "            presort=False, random_state=None, splitter='best')"
      ]
     },
     "execution_count": 6,
     "metadata": {},
     "output_type": "execute_result"
    }
   ],
   "source": [
    "tree_model = DecisionTreeClassifier(max_depth=14, min_samples_leaf=32, criterion=\"entropy\",min_samples_split=256, class_weight=None)\n",
    "tree_model.fit(X_train, Y_train)"
   ]
  },
  {
   "cell_type": "code",
   "execution_count": 7,
   "metadata": {
    "collapsed": false
   },
   "outputs": [
    {
     "data": {
      "text/plain": [
       "0.84122401847575057"
      ]
     },
     "execution_count": 7,
     "metadata": {},
     "output_type": "execute_result"
    }
   ],
   "source": [
    "tree_model.score(X_test,Y_test)"
   ]
  },
  {
   "cell_type": "code",
   "execution_count": 13,
   "metadata": {
    "collapsed": false
   },
   "outputs": [
    {
     "name": "stdout",
     "output_type": "stream",
     "text": [
      "Accuracy on training = 0.842393\n",
      "Accuracy on test = 0.841224\n",
      "Accuracy on Vegas = 0.710289\n",
      "Accuracy on Phoenix = 0.687817\n",
      "Accuracy on Toronto = 0.718500\n"
     ]
    }
   ],
   "source": [
    "tree_data_accuracy =\\\n",
    "print ( \"Accuracy on training = %.6f\" % metrics.accuracy_score(tree_model.predict(X_train), Y_train) )\n",
    "print ( \"Accuracy on test = %.6f\" % metrics.accuracy_score(tree_model.predict(X_test), Y_test) )\n",
    "\n",
    "vegas_X, vegas_Y = pickle_to_df(VEGAS_BUS_PATH)\n",
    "print ( \"Accuracy on Vegas = %.6f\" % metrics.accuracy_score(tree_model.predict(vegas_X), vegas_Y) )\n",
    "\n",
    "pho_X, pho_Y = pickle_to_df(PHOENIX_BUS_PATH)\n",
    "print ( \"Accuracy on Phoenix = %.6f\" % metrics.accuracy_score(tree_model.predict(pho_X), pho_Y) )\n",
    "\n",
    "# mon_X, mon_Y = pickle_to_df(MONTREAL_BUS_PATH)\n",
    "# print ( \"Accuracy on Montreal = %.6f\" % metrics.accuracy_score(tree_model.predict(mon_X), mon_Y) )\n",
    "\n",
    "tor_X, tor_Y = pickle_to_df(TOR_BUS_PATH)\n",
    "print ( \"Accuracy on Toronto = %.6f\" % metrics.accuracy_score(tree_model.predict(tor_X), tor_Y) )"
   ]
  },
  {
   "cell_type": "code",
   "execution_count": 38,
   "metadata": {
    "collapsed": false
   },
   "outputs": [],
   "source": [
    "import matplotlib.pyplot as plt\n",
    "import matplotlib.cm\n",
    "\n",
    "from mpl_toolkits.basemap import Basemap\n",
    "from matplotlib.patches import Polygon\n",
    "from matplotlib.collections import PatchCollection\n",
    "from matplotlib.colors import Normalize\n",
    "fig, ax = plt.subplots(figsize=(10,20))"
   ]
  },
  {
   "cell_type": "code",
   "execution_count": 39,
   "metadata": {
    "collapsed": false
   },
   "outputs": [],
   "source": [
    "m = Basemap(resolution='c', # c, l, i, h, f or None\n",
    "            projection='merc',\n",
    "            lat_0=54.5, lon_0=-4.36,\n",
    "            llcrnrlon=-126., llcrnrlat= 25, urcrnrlon=-71, urcrnrlat=52)\n"
   ]
  },
  {
   "cell_type": "code",
   "execution_count": 47,
   "metadata": {
    "collapsed": false
   },
   "outputs": [
    {
     "name": "stderr",
     "output_type": "stream",
     "text": [
      "/home/ubuntu/anaconda3/lib/python3.6/site-packages/mpl_toolkits/basemap/__init__.py:1767: MatplotlibDeprecationWarning: The get_axis_bgcolor function was deprecated in version 2.0. Use get_facecolor instead.\n",
      "  axisbgc = ax.get_axis_bgcolor()\n"
     ]
    },
    {
     "data": {
      "text/plain": [
       "<matplotlib.collections.LineCollection at 0x7f961bf9ee48>"
      ]
     },
     "execution_count": 47,
     "metadata": {},
     "output_type": "execute_result"
    }
   ],
   "source": [
    "m.drawmapboundary(fill_color='#46bcec')\n",
    "# m.drawmapboundary(get_facecolor='#46bcec')\n",
    "\n",
    "m.fillcontinents(color='#f2f2f2',lake_color='#46bcec')\n",
    "m.drawcoastlines()"
   ]
  },
  {
   "cell_type": "code",
   "execution_count": 76,
   "metadata": {
    "collapsed": false
   },
   "outputs": [
    {
     "name": "stderr",
     "output_type": "stream",
     "text": [
      "/home/ubuntu/anaconda3/lib/python3.6/site-packages/mpl_toolkits/basemap/__init__.py:3222: MatplotlibDeprecationWarning: The ishold function was deprecated in version 2.0.\n",
      "  b = ax.ishold()\n",
      "/home/ubuntu/anaconda3/lib/python3.6/site-packages/mpl_toolkits/basemap/__init__.py:3231: MatplotlibDeprecationWarning: axes.hold is deprecated.\n",
      "    See the API Changes document (http://matplotlib.org/api/api_changes.html)\n",
      "    for more details.\n",
      "  ax.hold(b)\n",
      "/home/ubuntu/anaconda3/lib/python3.6/site-packages/mpl_toolkits/basemap/__init__.py:1767: MatplotlibDeprecationWarning: The get_axis_bgcolor function was deprecated in version 2.0. Use get_facecolor instead.\n",
      "  axisbgc = ax.get_axis_bgcolor()\n",
      "/home/ubuntu/anaconda3/lib/python3.6/site-packages/ipykernel_launcher.py:18: MatplotlibDeprecationWarning: pyplot.hold is deprecated.\n",
      "    Future behavior will be consistent with the long-time default:\n",
      "    plot commands add elements without first clearing the\n",
      "    Axes and/or Figure.\n",
      "/home/ubuntu/anaconda3/lib/python3.6/site-packages/matplotlib/__init__.py:917: UserWarning: axes.hold is deprecated. Please remove it from your matplotlibrc and/or style files.\n",
      "  warnings.warn(self.msg_depr_set % key)\n",
      "/home/ubuntu/anaconda3/lib/python3.6/site-packages/matplotlib/rcsetup.py:152: UserWarning: axes.hold is deprecated, will be removed in 3.0\n",
      "  warnings.warn(\"axes.hold is deprecated, will be removed in 3.0\")\n"
     ]
    },
    {
     "data": {
      "image/png": "[encoded data removed]",
      "text/plain": [
       "<matplotlib.figure.Figure at 0x7f96141c8908>"
      ]
     },
     "metadata": {},
     "output_type": "display_data"
    }
   ],
   "source": [
    "markersize = 1\n",
    "# markertype = ','  # pixel\n",
    "markercolor = '#325CA9'  # blue\n",
    "# markercolor = '#444444'  # blue\n",
    "\n",
    "markeralpha = .8 #  a bit of transparency\n",
    "locations = [loc for loc in zip(df.longitude.values, df.latitude.values)]\n",
    "lons, lats = zip(*locations)\n",
    "x, y = m(lons, lats)\n",
    "# m.scatter(x, y, markersize, marker=markertype, color=markercolor, alpha=markeralpha)\n",
    "m.scatter(x, y, markersize, color=markercolor, alpha=markeralpha) \n",
    "\n",
    "# m.plot(x, y, 'o', markersize, color='#444444', alpha=0.8)\n",
    "m.drawmapboundary(fill_color='#99ffff')\n",
    "m.fillcontinents(color='#cc9966',lake_color='#99ffff')\n",
    "m.scatter(x, y, markersize, color=markercolor, alpha=markeralpha, zorder=99) \n",
    "# m.scatter(x,y,3,marker='o',color='k', zorder=99)\n",
    "plt.hold(True)\n",
    "plt.title('test')\n",
    "plt.show()"
   ]
  },
  {
   "cell_type": "code",
   "execution_count": null,
   "metadata": {
    "collapsed": true
   },
   "outputs": [],
   "source": []
  }
 ],
 "metadata": {
  "kernelspec": {
   "display_name": "Python 3",
   "language": "python",
   "name": "python3"
  },
  "language_info": {
   "codemirror_mode": {
    "name": "ipython",
    "version": 3
   },
   "file_extension": ".py",
   "mimetype": "text/x-python",
   "name": "python",
   "nbconvert_exporter": "python",
   "pygments_lexer": "ipython3",
   "version": "3.6.0"
  }
 },
 "nbformat": 4,
 "nbformat_minor": 2
}
